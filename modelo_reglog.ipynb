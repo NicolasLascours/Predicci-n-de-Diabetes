{
 "cells": [
  {
   "cell_type": "code",
   "execution_count": null,
   "metadata": {},
   "outputs": [],
   "source": [
    "import numpy as np\n",
    "import pandas as pd\n",
    "from sklearn.model_selection import train_test_split\n",
    "from sklearn.preprocessing import StandardScaler\n",
    "from sklearn.linear_model import LogisticRegression\n",
    "import seaborn as sns\n",
    "import matplotlib.pyplot as plt\n",
    "import ipywidgets as widgets\n",
    "from IPython.display import display"
   ]
  },
  {
   "cell_type": "code",
   "execution_count": null,
   "metadata": {},
   "outputs": [],
   "source": [
    "# cargar los datos\n",
    "diabetes_dataset = pd.read_csv('diabetes.csv')\n",
    "data = diabetes_dataset.values"
   ]
  },
  {
   "cell_type": "code",
   "execution_count": null,
   "metadata": {},
   "outputs": [],
   "source": [
    "#Muestro los 5 primeros elementos de dataset\n",
    "diabetes_dataset.head"
   ]
  },
  {
   "cell_type": "code",
   "execution_count": null,
   "metadata": {},
   "outputs": [],
   "source": [
    "#cantidad de filas y columnas\n",
    "diabetes_dataset.shape"
   ]
  },
  {
   "cell_type": "code",
   "execution_count": null,
   "metadata": {},
   "outputs": [],
   "source": [
    "#información estadística casos negativos\n",
    "diabetes_dataset[diabetes_dataset['Outcome']==0].describe()"
   ]
  },
  {
   "cell_type": "code",
   "execution_count": null,
   "metadata": {},
   "outputs": [],
   "source": [
    "#información estadística casos positivos\n",
    "diabetes_dataset[diabetes_dataset['Outcome']==1].describe()"
   ]
  },
  {
   "cell_type": "code",
   "execution_count": null,
   "metadata": {},
   "outputs": [],
   "source": [
    "#cantidad de diabéticos (1) y no diabéticos (0) en el dataset\n",
    "diabetes_dataset['Outcome'].value_counts()"
   ]
  },
  {
   "cell_type": "code",
   "execution_count": null,
   "metadata": {},
   "outputs": [],
   "source": [
    "#Crear diagrama de barras\n",
    "sns.countplot(x='Outcome', data=diabetes_dataset)\n",
    "plt.title('Cantidad de pacientes diabéticos y no diabéticos')\n",
    "plt.xlabel('Estado')\n",
    "plt.ylabel('Cantidad')\n",
    "plt.show()"
   ]
  },
  {
   "cell_type": "code",
   "execution_count": null,
   "metadata": {},
   "outputs": [],
   "source": [
    "#el % de glucosa en sangre en diabéticos es mayor que los que no lo son.\n",
    "#A su vez, la personas de mayor edad son más suceptibles a tener diabetes.\n",
    "diabetes_dataset.groupby('Outcome').mean()"
   ]
  },
  {
   "cell_type": "code",
   "execution_count": null,
   "metadata": {},
   "outputs": [],
   "source": [
    "# gráfico de dispersión que indica la relación entre la edad y el IMC en sangre de los pacientes diabéticos y no diabéticos\n",
    "sns.scatterplot(x='Age', y='BMI', hue='Outcome', data=diabetes_dataset)\n",
    "plt.title('Relación entre edad y el IMC')\n",
    "plt.xlabel('Edad')\n",
    "plt.ylabel('IMC')\n",
    "plt.show()\n"
   ]
  },
  {
   "cell_type": "code",
   "execution_count": null,
   "metadata": {},
   "outputs": [],
   "source": [
    "# diagrama de cajas y bigotes que compara la distribución del nivel de glucosa en sangre entre pacientes diabéticos\n",
    "#y no diabéticos en el conjunto de datos. \n",
    "sns.boxplot(x='Outcome', y='Glucose', data=diabetes_dataset, fliersize=3)\n",
    "plt.title('Distribución del nivel de glucosa en sangre para pacientes diabéticos y no diabéticos', fontsize=14)\n",
    "plt.xlabel('Diabético', fontsize=12)\n",
    "plt.ylabel('Nivel de glucosa', fontsize=12)\n",
    "plt.figure(figsize=(8,6))\n",
    "plt.show()"
   ]
  },
  {
   "cell_type": "code",
   "execution_count": null,
   "metadata": {},
   "outputs": [],
   "source": [
    "# gráfico de dispersión que indica la relación entre la edad y el nivel de glucosa en sangre de los pacientes diabéticos y no diabéticos\n",
    "sns.scatterplot(x='Age', y='Glucose', hue='Outcome', data=diabetes_dataset)\n",
    "plt.title('Relación entre edad y nivel de glucosa en sangre')\n",
    "plt.xlabel('Edad')\n",
    "plt.ylabel('Nivel de glucosa en sangre')\n",
    "plt.show()"
   ]
  },
  {
   "cell_type": "code",
   "execution_count": null,
   "metadata": {},
   "outputs": [],
   "source": [
    "# gráfico de dispersión que indica la relación entre la insulina y el nivel de glucosa en sangre de los pacientes diabéticos y no diabéticos\n",
    "sns.scatterplot(x='Glucose', y='Insulin', hue='Outcome', data=diabetes_dataset)\n",
    "plt.title('Relación entre nivel de glucosa e insulina en sangre')\n",
    "plt.xlabel('Nivel de glucosa en sangre')\n",
    "plt.ylabel('Nivel de insulina en sangre')\n",
    "plt.show()"
   ]
  },
  {
   "cell_type": "code",
   "execution_count": null,
   "metadata": {},
   "outputs": [],
   "source": [
    "# Me quedo con las columnas relevantes y las traduzco al español\n",
    "diabetes_df_limpio = diabetes_dataset.loc[:, ['Age', 'Glucose', 'Insulin','BMI', 'DiabetesPedigreeFunction', 'Outcome']]\n",
    "diabetes_df_limpio = diabetes_df_limpio.rename(columns={\n",
    "    'Age': 'Edad',\n",
    "    'Glucose': 'Glucosa',\n",
    "    'Insulin': 'Insulina',\n",
    "    'BMI': 'IMC',\n",
    "    'DiabetesPedigreeFunction': 'Historial Familiar de Diabetes',\n",
    "    'Outcome': 'Resultado'\n",
    "})\n",
    "\n",
    "diabetes_df_limpio"
   ]
  },
  {
   "cell_type": "code",
   "execution_count": null,
   "metadata": {},
   "outputs": [],
   "source": [
    "#matriz de correlación entre las variables\n",
    "corr = diabetes_df_limpio.corr()\n",
    "sns.heatmap(corr, annot=True, cmap='coolwarm')\n",
    "plt.show()"
   ]
  },
  {
   "cell_type": "code",
   "execution_count": null,
   "metadata": {},
   "outputs": [],
   "source": [
    "sns.pairplot(data=diabetes_df_limpio, hue='Resultado', corner=True)"
   ]
  },
  {
   "cell_type": "code",
   "execution_count": null,
   "metadata": {},
   "outputs": [],
   "source": [
    "#separo los datos y los labels\n",
    "x = diabetes_df_limpio.drop(columns='Resultado', axis=1)\n",
    "y = diabetes_df_limpio['Resultado']"
   ]
  },
  {
   "cell_type": "code",
   "execution_count": null,
   "metadata": {},
   "outputs": [],
   "source": [
    "# divido los datos en conjunto de entrenamiento y conjunto de prueba\n",
    "X_train, X_test, y_train, y_test = train_test_split(x, y, test_size=0.2, random_state=42)"
   ]
  },
  {
   "cell_type": "code",
   "execution_count": null,
   "metadata": {},
   "outputs": [],
   "source": [
    "# normalizar los datos de entrenamiento y transformo los datos de prueba en la misma escala\n",
    "scaler = StandardScaler()\n",
    "X_train = scaler.fit_transform(X_train)\n",
    "X_test = scaler.transform(X_test)"
   ]
  },
  {
   "cell_type": "code",
   "execution_count": null,
   "metadata": {},
   "outputs": [],
   "source": [
    "# creo el modelo de regresión logística y lo ajusto a los datos de entrenamiento\n",
    "model = LogisticRegression()\n",
    "model.fit(X_train, y_train)\n",
    "\n",
    "# evalúo el modelo en los datos de prueba\n",
    "score = model.score(X_test, y_test)\n",
    "\n",
    "# imprimo la precisión del modelo\n",
    "print(f'Precisión del modelo: {score:.3f}')"
   ]
  },
  {
   "cell_type": "code",
   "execution_count": null,
   "metadata": {},
   "outputs": [],
   "source": [
    "# Crear los widgets de entrada\n",
    "glucosa = widgets.FloatText(description='Glucosa (mg/dL):')\n",
    "insulina = widgets.FloatText(description='Insulina (mu U/mL):')\n",
    "imc = widgets.FloatText(description='IMC:')\n",
    "pedigri = widgets.FloatText(description='Pedigrí:')\n",
    "edad = widgets.FloatText(description='Edad (años):')\n",
    "\n",
    "# Crear una función que se activa cuando se presiona el botón de \"Predecir\"\n",
    "def predecir(sender):\n",
    "    try:\n",
    "        # Comprobar que los valores ingresados son válidos\n",
    "        if edad.value <= 0 or glucosa.value <= 0 or insulina.value < 0 or imc.value <= 0 or pedigri.value < 0:\n",
    "            print(\"Error: Asegúrese de ingresar valores válidos\")\n",
    "            return\n",
    "\n",
    "        input_data = np.array([edad.value, glucosa.value, insulina.value, imc.value, pedigri.value])\n",
    "\n",
    "        # cambio la forma del arreglo ya que estoy realizando una predicción para una única instancia de datos\n",
    "        input_data_reshaped = input_data.reshape(1,-1)\n",
    "\n",
    "        # estandarizar la entrada\n",
    "        std_data = scaler.transform(input_data_reshaped)\n",
    "\n",
    "        # hacer una predicción en los datos estandarizados\n",
    "        prediction = model.predict(std_data)\n",
    "        proba = model.predict_proba(std_data)\n",
    "\n",
    "        # imprimir la predicción y la probabilidad estimada\n",
    "        print('----------------------------------------')\n",
    "        if prediction[0] == 0:\n",
    "            print('La persona no tiene diabetes.')\n",
    "        else:\n",
    "            print('La persona tiene diabetes.')\n",
    "        print(f\"Probabilidad estimada de no tener diabetes: {proba[0][0]:.3f}\")\n",
    "        print(f\"Probabilidad estimada de tener diabetes: {proba[0][1]:.3f}\")\n",
    "        print('----------------------------------------')\n",
    "        print(f\"Edad: {edad.value} años\")\n",
    "        print(f\"Nivel de glucosa en sangre: {glucosa.value} mg/dL\")\n",
    "        print(f\"Nivel de insulina en sangre: {insulina.value} mu U/mL\")\n",
    "        print(f\"Índice de masa corporal (IMC): {imc.value}\")\n",
    "        print(f\"Pedigrí de diabetes en la familia: {pedigri.value}\")\n",
    "        print('----------------------------------------')\n",
    "    except:\n",
    "        print(\"Error: Asegúrese de ingresar números en todas las entradas\")\n",
    "\n",
    "\n",
    "\n",
    "# Crear el botón de \"Predecir\"\n",
    "boton_predecir = widgets.Button(description='Predecir')\n",
    "boton_predecir.on_click(predecir)\n",
    "\n",
    "# Mostrar los widgets y el botón\n",
    "display(edad, glucosa, insulina, imc, pedigri, boton_predecir)\n",
    "\n"
   ]
  }
 ],
 "metadata": {
  "kernelspec": {
   "display_name": "Python 3",
   "language": "python",
   "name": "python3"
  },
  "language_info": {
   "codemirror_mode": {
    "name": "ipython",
    "version": 3
   },
   "file_extension": ".py",
   "mimetype": "text/x-python",
   "name": "python",
   "nbconvert_exporter": "python",
   "pygments_lexer": "ipython3",
   "version": "3.10.4"
  },
  "orig_nbformat": 4
 },
 "nbformat": 4,
 "nbformat_minor": 2
}
