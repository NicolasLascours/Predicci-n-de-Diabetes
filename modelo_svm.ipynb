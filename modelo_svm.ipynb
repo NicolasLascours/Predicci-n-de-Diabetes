{
 "cells": [
  {
   "cell_type": "code",
   "execution_count": null,
   "metadata": {},
   "outputs": [],
   "source": [
    "#Importo librerías\n",
    "import numpy as np\n",
    "import pandas as pd\n",
    "from sklearn.preprocessing import StandardScaler\n",
    "from sklearn.model_selection import train_test_split\n",
    "from sklearn import svm\n",
    "from sklearn.metrics import accuracy_score\n",
    "import matplotlib.pyplot as plt\n",
    "import seaborn as sns"
   ]
  },
  {
   "cell_type": "code",
   "execution_count": null,
   "metadata": {},
   "outputs": [],
   "source": [
    "#Lectura del dataset\n",
    "diabetes_dataset = pd.read_csv(\"diabetes.csv\")\n"
   ]
  },
  {
   "cell_type": "code",
   "execution_count": null,
   "metadata": {},
   "outputs": [],
   "source": [
    "#Muestro los 5 primeros elementos de dataset\n",
    "diabetes_dataset.head()"
   ]
  },
  {
   "cell_type": "code",
   "execution_count": null,
   "metadata": {},
   "outputs": [],
   "source": [
    "#cantidad de filas y columnas\n",
    "diabetes_dataset.shape"
   ]
  },
  {
   "cell_type": "code",
   "execution_count": null,
   "metadata": {},
   "outputs": [],
   "source": [
    "#información estadística casos negativos\n",
    "diabetes_dataset[diabetes_dataset['Outcome']==0].describe()"
   ]
  },
  {
   "cell_type": "code",
   "execution_count": null,
   "metadata": {},
   "outputs": [],
   "source": [
    "#información estadística casos positivos\n",
    "diabetes_dataset[diabetes_dataset['Outcome']==1].describe()"
   ]
  },
  {
   "cell_type": "code",
   "execution_count": null,
   "metadata": {},
   "outputs": [],
   "source": [
    "#cantidad de diabéticos (1) y no diabéticos (0) en el dataset\n",
    "diabetes_dataset['Outcome'].value_counts()"
   ]
  },
  {
   "cell_type": "code",
   "execution_count": null,
   "metadata": {},
   "outputs": [],
   "source": [
    "#Crear diagrama de barras\n",
    "sns.countplot(x='Outcome', data=diabetes_dataset)\n",
    "plt.title('Cantidad de pacientes diabéticos y no diabéticos')\n",
    "plt.xlabel('Estado')\n",
    "plt.ylabel('Cantidad')\n",
    "plt.show()"
   ]
  },
  {
   "cell_type": "code",
   "execution_count": null,
   "metadata": {},
   "outputs": [],
   "source": [
    "#el % de glucosa en sangre en diabéticos es mayor que los que no lo son.\n",
    "#A su vez, la personas de mayor edad son más suceptibles a tener diabetes.\n",
    "diabetes_dataset.groupby('Outcome').mean()"
   ]
  },
  {
   "cell_type": "code",
   "execution_count": null,
   "metadata": {},
   "outputs": [],
   "source": [
    "# gráfico de dispersión que indica la relación entre la edad y el nivel de glucosa en sangre de los pacientes diabéticos y no diabéticos\n",
    "sns.scatterplot(x='Age', y='Glucose', hue='Outcome', data=diabetes_dataset)\n",
    "plt.title('Relación entre edad y nivel de glucosa en sangre')\n",
    "plt.xlabel('Edad')\n",
    "plt.ylabel('Nivel de glucosa en sangre')\n",
    "plt.xticks(range(0, 100, 10))\n",
    "plt.show()"
   ]
  },
  {
   "cell_type": "code",
   "execution_count": null,
   "metadata": {},
   "outputs": [],
   "source": [
    "# diagrama de cajas y bigotes que compara la distribución del nivel de glucosa en sangre entre pacientes diabéticos\n",
    "#y no diabéticos en el conjunto de datos. \n",
    "sns.boxplot(x='Outcome', y='Glucose', data=diabetes_dataset, fliersize=3)\n",
    "plt.title('Distribución del nivel de glucosa en sangre para pacientes diabéticos y no diabéticos', fontsize=14)\n",
    "plt.xlabel('Diabético', fontsize=12)\n",
    "plt.ylabel('Nivel de glucosa', fontsize=12)\n",
    "plt.figure(figsize=(8,6))\n",
    "plt.show()"
   ]
  },
  {
   "cell_type": "code",
   "execution_count": null,
   "metadata": {},
   "outputs": [],
   "source": [
    "# Me quedo con las columnas relevantes y las traduzco al español\n",
    "diabetes_df_limpio = diabetes_dataset.loc[:, ['Age', 'Glucose', 'Insulin','BMI', 'DiabetesPedigreeFunction', 'Outcome']]\n",
    "diabetes_df_limpio = diabetes_df_limpio.rename(columns={\n",
    "    'Age': 'Edad',\n",
    "    'Glucose': 'Glucosa',\n",
    "    'Insulin': 'Insulina',\n",
    "    'BMI': 'IMC',\n",
    "    'DiabetesPedigreeFunction': 'Historial Familiar de Diabetes',\n",
    "    'Outcome': 'Resultado'\n",
    "})\n",
    "\n",
    "diabetes_df_limpio"
   ]
  },
  {
   "cell_type": "code",
   "execution_count": null,
   "metadata": {},
   "outputs": [],
   "source": [
    "#matriz de correlación entre las variables\n",
    "corr = diabetes_df_limpio.corr()\n",
    "sns.heatmap(corr, annot=True, cmap='coolwarm')\n",
    "plt.show()"
   ]
  },
  {
   "cell_type": "code",
   "execution_count": null,
   "metadata": {},
   "outputs": [],
   "source": [
    "sns.pairplot(data=diabetes_df_limpio, hue='Resultado', corner=True)"
   ]
  },
  {
   "cell_type": "code",
   "execution_count": null,
   "metadata": {},
   "outputs": [],
   "source": [
    "#separo los datos y los labels\n",
    "x = diabetes_df_limpio.drop(columns='Resultado', axis=1)"
   ]
  },
  {
   "cell_type": "code",
   "execution_count": null,
   "metadata": {},
   "outputs": [],
   "source": [
    "#estandarización de los datos\n",
    "scaler = StandardScaler()\n",
    "scaler.fit(x)\n",
    "data_estadarizada = scaler.transform(x)\n",
    "data_estadarizada"
   ]
  },
  {
   "cell_type": "code",
   "execution_count": null,
   "metadata": {},
   "outputs": [],
   "source": [
    "#entrenamiento del modelo\n",
    "x = data_estadarizada\n",
    "y = diabetes_df_limpio['Resultado']\n",
    "\n",
    "x_train, x_test, y_train, y_test = train_test_split(x,y, test_size=0.2, stratify=y, random_state=2)\n",
    "\n",
    "print(x.shape, x_train.shape, x_test.shape)"
   ]
  },
  {
   "cell_type": "code",
   "execution_count": null,
   "metadata": {},
   "outputs": [],
   "source": [
    "classifier = svm.SVC(kernel='linear')\n",
    "classifier.fit(x_train, y_train)"
   ]
  },
  {
   "cell_type": "code",
   "execution_count": null,
   "metadata": {},
   "outputs": [],
   "source": [
    "#resultado del accurancy sobre los datos del entrenamiento\n",
    "x_train_prediction = classifier.predict(x_train)\n",
    "training_data_accurancy = accuracy_score(x_train_prediction, y_train)\n",
    "training_data_accurancy"
   ]
  },
  {
   "cell_type": "code",
   "execution_count": null,
   "metadata": {},
   "outputs": [],
   "source": [
    "#resultado del accurancy sobre los datos de prueba\n",
    "x_test_prediction = classifier.predict(x_test)\n",
    "testing_data_accurancy = accuracy_score(x_test_prediction, y_test)\n",
    "testing_data_accurancy"
   ]
  },
  {
   "cell_type": "code",
   "execution_count": null,
   "metadata": {},
   "outputs": [],
   "source": [
    "try:\n",
    "    input_data = (21, 89, 94, 28.1, 0.167)\n",
    "\n",
    "    # changing the input_data to numpy array\n",
    "    input_data_as_numpy_array = np.asarray(input_data)\n",
    "\n",
    "    # reshape the array as we are predicting for one instance\n",
    "    input_data_reshaped = input_data_as_numpy_array.reshape(1,-1)\n",
    "\n",
    "    # standardize the input data\n",
    "    std_data = scaler.transform(input_data_reshaped)\n",
    "    std_data\n",
    "\n",
    "    prediction = classifier.predict(std_data)\n",
    "    prediction\n",
    "\n",
    "    if (prediction[0] == 0):\n",
    "        print('La persona no es diabética')\n",
    "    else:\n",
    "        print('La persona es diabética')\n",
    "except Exception as e:\n",
    "    print('Ha ocurrido un error:', e)\n"
   ]
  }
 ],
 "metadata": {
  "kernelspec": {
   "display_name": "Python 3",
   "language": "python",
   "name": "python3"
  },
  "language_info": {
   "codemirror_mode": {
    "name": "ipython",
    "version": 3
   },
   "file_extension": ".py",
   "mimetype": "text/x-python",
   "name": "python",
   "nbconvert_exporter": "python",
   "pygments_lexer": "ipython3",
   "version": "3.10.4"
  },
  "orig_nbformat": 4
 },
 "nbformat": 4,
 "nbformat_minor": 2
}
